{
 "cells": [
  {
   "cell_type": "code",
   "execution_count": null,
   "id": "9deb9d58",
   "metadata": {},
   "outputs": [],
   "source": [
    "import pandas as pd\n",
    "import matplotlib.pyplot as plt\n",
    "import seaborn as sns"
   ]
  },
  {
   "cell_type": "code",
   "execution_count": 8,
   "id": "5c354ad1",
   "metadata": {},
   "outputs": [],
   "source": [
    "base = pd.read_csv(r\"C:\\Users\\Ryan\\OneDrive\\Documentos\\GitHub\\analise_imobiliaria_petropolitana\\imoveis_petropolis_2025-09-27.csv\", sep = \";\")"
   ]
  },
  {
   "cell_type": "code",
   "execution_count": 20,
   "id": "eda4c2b5",
   "metadata": {},
   "outputs": [
    {
     "data": {
      "text/html": [
       "<div>\n",
       "<style scoped>\n",
       "    .dataframe tbody tr th:only-of-type {\n",
       "        vertical-align: middle;\n",
       "    }\n",
       "\n",
       "    .dataframe tbody tr th {\n",
       "        vertical-align: top;\n",
       "    }\n",
       "\n",
       "    .dataframe thead th {\n",
       "        text-align: right;\n",
       "    }\n",
       "</style>\n",
       "<table border=\"1\" class=\"dataframe\">\n",
       "  <thead>\n",
       "    <tr style=\"text-align: right;\">\n",
       "      <th></th>\n",
       "      <th>valor</th>\n",
       "      <th>m2</th>\n",
       "      <th>quartos</th>\n",
       "      <th>vagas</th>\n",
       "      <th>banheiros</th>\n",
       "      <th>iptu</th>\n",
       "      <th>condominio</th>\n",
       "      <th>data_anuncio</th>\n",
       "      <th>link</th>\n",
       "      <th>imagem</th>\n",
       "      <th>data</th>\n",
       "      <th>cidade</th>\n",
       "      <th>bairro</th>\n",
       "      <th>latitude</th>\n",
       "      <th>longitude</th>\n",
       "      <th>hash_imagem</th>\n",
       "      <th>hash_str</th>\n",
       "    </tr>\n",
       "  </thead>\n",
       "  <tbody>\n",
       "    <tr>\n",
       "      <th>0</th>\n",
       "      <td>455000</td>\n",
       "      <td>70</td>\n",
       "      <td>2.0</td>\n",
       "      <td>1.0</td>\n",
       "      <td>2.0</td>\n",
       "      <td>332</td>\n",
       "      <td>751</td>\n",
       "      <td>2025-09-26 21:26:00</td>\n",
       "      <td>https://rj.olx.com.br/serra-angra-dos-reis-e-r...</td>\n",
       "      <td>imagens\\809548138667735.webp</td>\n",
       "      <td>2025-09-27</td>\n",
       "      <td>Petrópolis</td>\n",
       "      <td>Itaipava</td>\n",
       "      <td>-22.412700</td>\n",
       "      <td>-43.142100</td>\n",
       "      <td>ffde00000040df7f</td>\n",
       "      <td>ffde00000040df7f</td>\n",
       "    </tr>\n",
       "    <tr>\n",
       "      <th>1</th>\n",
       "      <td>430000</td>\n",
       "      <td>56</td>\n",
       "      <td>2.0</td>\n",
       "      <td>1.0</td>\n",
       "      <td>1.0</td>\n",
       "      <td>110</td>\n",
       "      <td>210</td>\n",
       "      <td>2025-09-26 11:12:00</td>\n",
       "      <td>https://rj.olx.com.br/serra-angra-dos-reis-e-r...</td>\n",
       "      <td>imagens\\119505194936684.webp</td>\n",
       "      <td>2025-09-27</td>\n",
       "      <td>Petrópolis</td>\n",
       "      <td>Corrêas</td>\n",
       "      <td>-22.442565</td>\n",
       "      <td>-43.139706</td>\n",
       "      <td>ffff7f5330202010</td>\n",
       "      <td>ffff7f5330202010</td>\n",
       "    </tr>\n",
       "    <tr>\n",
       "      <th>2</th>\n",
       "      <td>150000</td>\n",
       "      <td>62</td>\n",
       "      <td>1.0</td>\n",
       "      <td>NaN</td>\n",
       "      <td>1.0</td>\n",
       "      <td>NaN</td>\n",
       "      <td>NaN</td>\n",
       "      <td>2025-09-25 14:37:00</td>\n",
       "      <td>https://rj.olx.com.br/serra-angra-dos-reis-e-r...</td>\n",
       "      <td>imagens\\686564086666094.webp</td>\n",
       "      <td>2025-09-27</td>\n",
       "      <td>Petrópolis</td>\n",
       "      <td>Quissama</td>\n",
       "      <td>-22.492869</td>\n",
       "      <td>-43.159080</td>\n",
       "      <td>800002dee0e0fcfc</td>\n",
       "      <td>800002dee0e0fcfc</td>\n",
       "    </tr>\n",
       "    <tr>\n",
       "      <th>3</th>\n",
       "      <td>1950000</td>\n",
       "      <td>157</td>\n",
       "      <td>4.0</td>\n",
       "      <td>3.0</td>\n",
       "      <td>1.0</td>\n",
       "      <td>389</td>\n",
       "      <td>1.010</td>\n",
       "      <td>2025-09-27 13:53:00</td>\n",
       "      <td>https://rj.olx.com.br/serra-angra-dos-reis-e-r...</td>\n",
       "      <td>imagens\\617521442792009.webp</td>\n",
       "      <td>2025-09-27</td>\n",
       "      <td>Petrópolis</td>\n",
       "      <td>Araras</td>\n",
       "      <td>-22.425156</td>\n",
       "      <td>-43.221496</td>\n",
       "      <td>ddd0ac0337721f86</td>\n",
       "      <td>ddd0ac0337721f86</td>\n",
       "    </tr>\n",
       "    <tr>\n",
       "      <th>4</th>\n",
       "      <td>4200000</td>\n",
       "      <td>4600</td>\n",
       "      <td>4.0</td>\n",
       "      <td>2.0</td>\n",
       "      <td>3.0</td>\n",
       "      <td>300</td>\n",
       "      <td>1.560</td>\n",
       "      <td>2025-09-27 13:53:00</td>\n",
       "      <td>https://rj.olx.com.br/serra-angra-dos-reis-e-r...</td>\n",
       "      <td>imagens\\621572563578972.webp</td>\n",
       "      <td>2025-09-27</td>\n",
       "      <td>Petrópolis</td>\n",
       "      <td>Araras</td>\n",
       "      <td>-22.425156</td>\n",
       "      <td>-43.221496</td>\n",
       "      <td>9093110000674fff</td>\n",
       "      <td>9093110000674fff</td>\n",
       "    </tr>\n",
       "  </tbody>\n",
       "</table>\n",
       "</div>"
      ],
      "text/plain": [
       "     valor    m2  quartos  vagas  banheiros iptu condominio  \\\n",
       "0   455000    70      2.0    1.0        2.0  332        751   \n",
       "1   430000    56      2.0    1.0        1.0  110        210   \n",
       "2   150000    62      1.0    NaN        1.0  NaN        NaN   \n",
       "3  1950000   157      4.0    3.0        1.0  389      1.010   \n",
       "4  4200000  4600      4.0    2.0        3.0  300      1.560   \n",
       "\n",
       "          data_anuncio                                               link  \\\n",
       "0  2025-09-26 21:26:00  https://rj.olx.com.br/serra-angra-dos-reis-e-r...   \n",
       "1  2025-09-26 11:12:00  https://rj.olx.com.br/serra-angra-dos-reis-e-r...   \n",
       "2  2025-09-25 14:37:00  https://rj.olx.com.br/serra-angra-dos-reis-e-r...   \n",
       "3  2025-09-27 13:53:00  https://rj.olx.com.br/serra-angra-dos-reis-e-r...   \n",
       "4  2025-09-27 13:53:00  https://rj.olx.com.br/serra-angra-dos-reis-e-r...   \n",
       "\n",
       "                         imagem        data      cidade    bairro   latitude  \\\n",
       "0  imagens\\809548138667735.webp  2025-09-27  Petrópolis  Itaipava -22.412700   \n",
       "1  imagens\\119505194936684.webp  2025-09-27  Petrópolis   Corrêas -22.442565   \n",
       "2  imagens\\686564086666094.webp  2025-09-27  Petrópolis  Quissama -22.492869   \n",
       "3  imagens\\617521442792009.webp  2025-09-27  Petrópolis    Araras -22.425156   \n",
       "4  imagens\\621572563578972.webp  2025-09-27  Petrópolis    Araras -22.425156   \n",
       "\n",
       "   longitude       hash_imagem          hash_str  \n",
       "0 -43.142100  ffde00000040df7f  ffde00000040df7f  \n",
       "1 -43.139706  ffff7f5330202010  ffff7f5330202010  \n",
       "2 -43.159080  800002dee0e0fcfc  800002dee0e0fcfc  \n",
       "3 -43.221496  ddd0ac0337721f86  ddd0ac0337721f86  \n",
       "4 -43.221496  9093110000674fff  9093110000674fff  "
      ]
     },
     "execution_count": 20,
     "metadata": {},
     "output_type": "execute_result"
    }
   ],
   "source": [
    "base.head()"
   ]
  },
  {
   "cell_type": "code",
   "execution_count": 21,
   "id": "115643ce",
   "metadata": {},
   "outputs": [
    {
     "name": "stdout",
     "output_type": "stream",
     "text": [
      "<class 'pandas.core.frame.DataFrame'>\n",
      "RangeIndex: 4861 entries, 0 to 4860\n",
      "Data columns (total 17 columns):\n",
      " #   Column        Non-Null Count  Dtype  \n",
      "---  ------        --------------  -----  \n",
      " 0   valor         4861 non-null   int64  \n",
      " 1   m2            4861 non-null   int64  \n",
      " 2   quartos       4854 non-null   float64\n",
      " 3   vagas         3833 non-null   float64\n",
      " 4   banheiros     4844 non-null   float64\n",
      " 5   iptu          3316 non-null   object \n",
      " 6   condominio    2613 non-null   object \n",
      " 7   data_anuncio  4861 non-null   object \n",
      " 8   link          4861 non-null   object \n",
      " 9   imagem        4854 non-null   object \n",
      " 10  data          4861 non-null   object \n",
      " 11  cidade        4861 non-null   object \n",
      " 12  bairro        4861 non-null   object \n",
      " 13  latitude      4835 non-null   float64\n",
      " 14  longitude     4835 non-null   float64\n",
      " 15  hash_imagem   4854 non-null   object \n",
      " 16  hash_str      4854 non-null   object \n",
      "dtypes: float64(5), int64(2), object(10)\n",
      "memory usage: 645.7+ KB\n"
     ]
    }
   ],
   "source": [
    "base.info()"
   ]
  },
  {
   "cell_type": "code",
   "execution_count": 23,
   "id": "d34d2dcc",
   "metadata": {},
   "outputs": [
    {
     "data": {
      "text/plain": [
       "<Axes: xlabel='valor'>"
      ]
     },
     "execution_count": 23,
     "metadata": {},
     "output_type": "execute_result"
    },
    {
     "data": {
      "image/png": "[encoded data removed]",
      "text/plain": [
       "<Figure size 640x480 with 1 Axes>"
      ]
     },
     "metadata": {},
     "output_type": "display_data"
    }
   ],
   "source": [
    "sns.boxplot(x=base['valor'])"
   ]
  }
 ],
 "metadata": {
  "kernelspec": {
   "display_name": "Python 3",
   "language": "python",
   "name": "python3"
  },
  "language_info": {
   "codemirror_mode": {
    "name": "ipython",
    "version": 3
   },
   "file_extension": ".py",
   "mimetype": "text/x-python",
   "name": "python",
   "nbconvert_exporter": "python",
   "pygments_lexer": "ipython3",
   "version": "3.13.0"
  }
 },
 "nbformat": 4,
 "nbformat_minor": 5
}

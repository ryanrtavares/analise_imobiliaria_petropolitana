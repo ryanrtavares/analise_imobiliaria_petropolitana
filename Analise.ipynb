{
 "cells": [
  {
   "cell_type": "code",
   "execution_count": 1,
   "id": "c6a5f50c",
   "metadata": {},
   "outputs": [],
   "source": [
    "import pandas as pd\n"
   ]
  },
  {
   "cell_type": "code",
   "execution_count": 3,
   "id": "bac871cb",
   "metadata": {},
   "outputs": [
    {
     "name": "stdout",
     "output_type": "stream",
     "text": [
      "                   bairro  preco_m2_medio  qtd_imoveis\n",
      "40      Vale do Carangola    12500.000000            1\n",
      "22               Itaipava     7103.609556          959\n",
      "3              Bonsucesso     6963.027428           65\n",
      "9                  Centro     6943.978632          686\n",
      "1                  Araras     6902.347917          256\n",
      "26               Nogueira     6827.703264          217\n",
      "15                 Duchas     6788.048266           19\n",
      "42           Vila Militar     6389.250012           17\n",
      "12                Corrêas     6337.831898          349\n",
      "41             Valparaíso     6281.902880          118\n",
      "11          Coronel Veiga     6001.743234           89\n",
      "13                 Cuiabá     5936.487486           74\n",
      "4               Carangola     5897.381244           32\n",
      "37              Samambaia     5864.726794          117\n",
      "34                 Retiro     5796.534553          124\n",
      "2                  Bingen     5566.081210          103\n",
      "27           Pedro do Rio     5531.420580          379\n",
      "25                 Mosela     5483.691878          122\n",
      "31   Quarteirão Ingelheim     5481.305329           31\n",
      "33            Quitandinha     5413.148977          211\n",
      "18        Fazenda Inglesa     5134.870708           49\n",
      "14        Duarte Silveira     5087.127017           34\n",
      "36       Saldanha Marinho     5084.808187           40\n",
      "6              Castelanea     4991.372102           98\n",
      "10          Chácara Flora     4843.982429            7\n",
      "16                 Duques     4832.258065            1\n",
      "24                  Morin     4813.545546           44\n",
      "17     Estrada da Saudade     4780.982906            5\n",
      "7               Castrioto     4613.565163            4\n",
      "32               Quissama     4577.283699           17\n",
      "0           Alto da Serra     4533.445458           70\n",
      "30  Quarteirão Brasileiro     4515.066324           21\n",
      "21          Independência     4478.429694          100\n",
      "5              Cascatinha     4199.026433           25\n",
      "39          São Sebastião     4108.473931           54\n",
      "38                Simeria     4075.762633           17\n",
      "35               Roseiral     4059.508429            8\n",
      "8                 Caxambu     4015.118064           12\n",
      "28                  Posse     3988.358175           28\n",
      "29             Provisória     3785.714286            1\n",
      "23              Itamarati     3114.592025           21\n",
      "19               Floresta     1944.444444            3\n",
      "20                 Gloria     1353.846154            2\n"
     ]
    }
   ],
   "source": [
    "# carregar os dados\n",
    "df = pd.read_csv(\"imoveis_petropolis_2025-09-15.csv\", sep=\";\")\n",
    "df[\"valor\"] = pd.to_numeric(df[\"valor\"], errors=\"coerce\")\n",
    "df[\"m2\"] = pd.to_numeric(df[\"m2\"], errors=\"coerce\")\n",
    "df[\"preco_m2\"] = df[\"valor\"] / df[\"m2\"]\n",
    "\n",
    "# remover registros inválidos\n",
    "df = df.dropna(subset=[\"preco_m2\"])\n",
    "df = df[df[\"m2\"] > 0]\n",
    "\n",
    "# calcular limites pelo IQR (para remover outliers)\n",
    "Q1 = df[\"preco_m2\"].quantile(0.25)\n",
    "Q3 = df[\"preco_m2\"].quantile(0.75)\n",
    "IQR = Q3 - Q1\n",
    "limite_inferior = Q1 - 1.5 * IQR\n",
    "limite_superior = Q3 + 1.5 * IQR\n",
    "\n",
    "df_sem_outliers = df[(df[\"preco_m2\"] >= limite_inferior) & (df[\"preco_m2\"] <= limite_superior)]\n",
    "\n",
    "# média e número de imóveis por bairro\n",
    "resumo_por_bairro = (\n",
    "    df_sem_outliers.groupby(\"bairro\")\n",
    "    .agg(\n",
    "        preco_m2_medio=(\"preco_m2\", \"mean\"),\n",
    "        qtd_imoveis=(\"preco_m2\", \"count\")\n",
    "    )\n",
    "    .reset_index()\n",
    "    .sort_values(by=\"preco_m2_medio\", ascending=False)\n",
    ")\n",
    "\n",
    "print(resumo_por_bairro)"
   ]
  }
 ],
 "metadata": {
  "kernelspec": {
   "display_name": "base",
   "language": "python",
   "name": "python3"
  },
  "language_info": {
   "codemirror_mode": {
    "name": "ipython",
    "version": 3
   },
   "file_extension": ".py",
   "mimetype": "text/x-python",
   "name": "python",
   "nbconvert_exporter": "python",
   "pygments_lexer": "ipython3",
   "version": "3.13.5"
  }
 },
 "nbformat": 4,
 "nbformat_minor": 5
}
